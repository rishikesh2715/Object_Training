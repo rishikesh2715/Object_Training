{
 "cells": [
  {
   "cell_type": "code",
   "execution_count": 1,
   "metadata": {},
   "outputs": [],
   "source": [
    "import cv2\n",
    "import numpy as np\n",
    "from matplotlib import pyplot as plt\n",
    "from mpl_toolkits.mplot3d import Axes3D"
   ]
  },
  {
   "cell_type": "code",
   "execution_count": 2,
   "metadata": {},
   "outputs": [],
   "source": [
    "def rgb_to_ycbcr(image):\n",
    "    # Convert the image from RGB to YCbCr\n",
    "    ycbcr_image = cv2.cvtColor(image, cv2.COLOR_RGB2YCrCb)\n",
    "    return ycbcr_image\n",
    "\n",
    "# Load an example image (replace 'example.jpg' with your image path)\n",
    "image_path = 'Example.png'\n",
    "rgb_image = cv2.imread(image_path)"
   ]
  },
  {
   "cell_type": "code",
   "execution_count": 3,
   "metadata": {},
   "outputs": [
    {
     "name": "stdout",
     "output_type": "stream",
     "text": [
      "size of R component 2187936\n",
      "size of G component 2187936\n",
      "size of B component 2187936\n"
     ]
    }
   ],
   "source": [
    "# Convert the image from BGR (OpenCV default) to RGB\n",
    "rgb_image = cv2.cvtColor(rgb_image, cv2.COLOR_BGR2RGB)\n",
    "\n",
    "r, g, b = cv2.split(rgb_image)\n",
    "\n",
    "r_size = np.size(r)\n",
    "g_size = np.size(g)\n",
    "b_size = np.size(b)\n",
    "\n",
    "print(f\"size of R component {r_size}\")\n",
    "print(f\"size of G component {g_size}\")\n",
    "print(f\"size of B component {b_size}\")"
   ]
  }
 ],
 "metadata": {
  "kernelspec": {
   "display_name": "Python 3",
   "language": "python",
   "name": "python3"
  },
  "language_info": {
   "codemirror_mode": {
    "name": "ipython",
    "version": 3
   },
   "file_extension": ".py",
   "mimetype": "text/x-python",
   "name": "python",
   "nbconvert_exporter": "python",
   "pygments_lexer": "ipython3",
   "version": "3.12.2"
  }
 },
 "nbformat": 4,
 "nbformat_minor": 2
}
