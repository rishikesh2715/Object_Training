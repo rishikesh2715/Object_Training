{
 "cells": [
  {
   "cell_type": "code",
   "execution_count": 23,
   "metadata": {},
   "outputs": [],
   "source": [
    "import cv2\n",
    "import numpy as np\n",
    "from matplotlib import pyplot as plt\n",
    "from mpl_toolkits.mplot3d import Axes3D\n",
    "import os"
   ]
  },
  {
   "cell_type": "code",
   "execution_count": 24,
   "metadata": {},
   "outputs": [],
   "source": [
    "# Function to convert the image from RGB to YCbCr\n",
    "\n",
    "def rgb_to_ycbcr(image):\n",
    "    ycbcr_image = cv2.cvtColor(image, cv2.COLOR_RGB2YCrCb)\n",
    "    return ycbcr_image"
   ]
  },
  {
   "cell_type": "code",
   "execution_count": 29,
   "metadata": {},
   "outputs": [
    {
     "ename": "error",
     "evalue": "OpenCV(4.10.0) /io/opencv/modules/imgproc/src/color.cpp:196: error: (-215:Assertion failed) !_src.empty() in function 'cvtColor'\n",
     "output_type": "error",
     "traceback": [
      "\u001b[0;31m---------------------------------------------------------------------------\u001b[0m",
      "\u001b[0;31merror\u001b[0m                                     Traceback (most recent call last)",
      "Cell \u001b[0;32mIn[29], line 11\u001b[0m\n\u001b[1;32m      9\u001b[0m image_path \u001b[38;5;241m=\u001b[39m os\u001b[38;5;241m.\u001b[39mpath\u001b[38;5;241m.\u001b[39mjoin(dataset_folder, image_name)\n\u001b[1;32m     10\u001b[0m rgb_image \u001b[38;5;241m=\u001b[39m cv2\u001b[38;5;241m.\u001b[39mimread(image_path)\n\u001b[0;32m---> 11\u001b[0m rgb_image \u001b[38;5;241m=\u001b[39m \u001b[43mcv2\u001b[49m\u001b[38;5;241;43m.\u001b[39;49m\u001b[43mcvtColor\u001b[49m\u001b[43m(\u001b[49m\u001b[43mrgb_image\u001b[49m\u001b[43m,\u001b[49m\u001b[43m \u001b[49m\u001b[43mcv2\u001b[49m\u001b[38;5;241;43m.\u001b[39;49m\u001b[43mCOLOR_BGR2RGB\u001b[49m\u001b[43m)\u001b[49m\n\u001b[1;32m     13\u001b[0m \u001b[38;5;66;03m# Convert the image from RGB to YCbCr\u001b[39;00m\n\u001b[1;32m     14\u001b[0m ycbcr_image \u001b[38;5;241m=\u001b[39m rgb_to_ycbcr(rgb_image)\n",
      "\u001b[0;31merror\u001b[0m: OpenCV(4.10.0) /io/opencv/modules/imgproc/src/color.cpp:196: error: (-215:Assertion failed) !_src.empty() in function 'cvtColor'\n"
     ]
    }
   ],
   "source": [
    "# Load dataset folder and get the image names\n",
    "dataset_folder = 'dataset/images'\n",
    "image_names = os.listdir(dataset_folder)\n",
    "\n",
    "# Loop through all images in the dataset folder\n",
    "for image_name in image_names:\n",
    "    # Load the image\n",
    "    image_path = os.path.join(dataset_folder, image_name)\n",
    "    rgb_image = cv2.imread(image_path)\n",
    "    rgb_image = cv2.cvtColor(rgb_image, cv2.COLOR_BGR2RGB)\n",
    "\n",
    "    # Convert the image from RGB to YCbCr\n",
    "    ycbcr_image = rgb_to_ycbcr(rgb_image)\n",
    "\n",
    "    # Plot the YCbCr image\n",
    "    plt.figure()\n",
    "    plt.imshow(ycbcr_image)\n",
    "    plt.title('YCbCr Image')\n",
    "    plt.axis('off')\n",
    "\n",
    "    # Save the YCbCr image\n",
    "    ycbcr_image_path = os.path.join('Results', 'YCbCr_' + image_name)\n",
    "    plt.savefig(ycbcr_image_path, bbox_inches='tight')\n",
    "\n",
    "    # Show the plot\n",
    "    plt.show()"
   ]
  }
 ],
 "metadata": {
  "kernelspec": {
   "display_name": "Python 3",
   "language": "python",
   "name": "python3"
  },
  "language_info": {
   "codemirror_mode": {
    "name": "ipython",
    "version": 3
   },
   "file_extension": ".py",
   "mimetype": "text/x-python",
   "name": "python",
   "nbconvert_exporter": "python",
   "pygments_lexer": "ipython3",
   "version": "3.12.3"
  }
 },
 "nbformat": 4,
 "nbformat_minor": 2
}
