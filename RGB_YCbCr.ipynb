{
 "cells": [
  {
   "cell_type": "code",
   "execution_count": 10,
   "metadata": {},
   "outputs": [
    {
     "name": "stdout",
     "output_type": "stream",
     "text": [
      "Conversion complete. Converted images saved in dataset\\train\\images_YCbCr\n"
     ]
    }
   ],
   "source": [
    "import os\n",
    "import cv2\n",
    "import numpy as np\n",
    "from pathlib import Path\n",
    "\n",
    "def rgb_to_ycbcr(img):\n",
    "    return cv2.cvtColor(img, cv2.COLOR_RGB2YCrCb)\n",
    "\n",
    "def process_images(input_dir, output_dir):\n",
    "    # Create output directory if it doesn't exist\n",
    "    Path(output_dir).mkdir(parents=True, exist_ok=True)\n",
    "\n",
    "    # Iterate through all jpg files in the input directory\n",
    "    for filename in os.listdir(input_dir):\n",
    "        if filename.lower().endswith('.jpg'):\n",
    "            # Read the image\n",
    "            img_path = os.path.join(input_dir, filename)\n",
    "            img = cv2.imread(img_path)\n",
    "\n",
    "            # Convert BGR to RGB (OpenCV reads images in BGR format)\n",
    "            img_rgb = cv2.cvtColor(img, cv2.COLOR_BGR2RGB)\n",
    "\n",
    "            # Convert RGB to YCbCr\n",
    "            img_ycbcr = rgb_to_ycbcr(img_rgb)\n",
    "\n",
    "            # Extract Y component\n",
    "            y_component = img_ycbcr[:,:,0]\n",
    "\n",
    "            # Save Y component with the same filename in the output directory\n",
    "            output_path = os.path.join(output_dir, filename)\n",
    "            cv2.imwrite(output_path, y_component)\n",
    "\n",
    "            print(f\"Processed: {filename}\")\n",
    "\n",
    "# Define input and output directories\n",
    "input_dir = \"dataset\\\\train\\\\images\"\n",
    "output_dir = \"dataset\\\\train\\\\images_YCbCr\"\n",
    "\n",
    "# Process the images\n",
    "process_images(input_dir, output_dir)\n",
    "\n",
    "print(\"Conversion completed.\")"
   ]
  }
 ],
 "metadata": {
  "kernelspec": {
   "display_name": "Python 3",
   "language": "python",
   "name": "python3"
  },
  "language_info": {
   "codemirror_mode": {
    "name": "ipython",
    "version": 3
   },
   "file_extension": ".py",
   "mimetype": "text/x-python",
   "name": "python",
   "nbconvert_exporter": "python",
   "pygments_lexer": "ipython3",
   "version": "3.9.5"
  }
 },
 "nbformat": 4,
 "nbformat_minor": 2
}
